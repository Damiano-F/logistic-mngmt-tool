{
 "metadata": {
  "language_info": {
   "codemirror_mode": {
    "name": "ipython",
    "version": 3
   },
   "file_extension": ".py",
   "mimetype": "text/x-python",
   "name": "python",
   "nbconvert_exporter": "python",
   "pygments_lexer": "ipython3",
   "version": "3.9.1-final"
  },
  "orig_nbformat": 2,
  "kernelspec": {
   "name": "python3",
   "display_name": "Python 3.9.1 64-bit",
   "metadata": {
    "interpreter": {
     "hash": "5be85f3bcb99b9c9b45f728b4a7b9a2aa85b4cdd5a6a41f24b2a729a27db0a72"
    }
   }
  }
 },
 "nbformat": 4,
 "nbformat_minor": 2,
 "cells": [
  {
   "cell_type": "code",
   "execution_count": 3,
   "metadata": {},
   "outputs": [
    {
     "output_type": "error",
     "ename": "SyntaxError",
     "evalue": "leading zeros in decimal integer literals are not permitted; use an 0o prefix for octal integers (<ipython-input-3-d3edfd75e235>, line 2)",
     "traceback": [
      "\u001b[1;36m  File \u001b[1;32m\"<ipython-input-3-d3edfd75e235>\"\u001b[1;36m, line \u001b[1;32m2\u001b[0m\n\u001b[1;33m    list(uniever(012, 120, 201, 120))\u001b[0m\n\u001b[1;37m                   ^\u001b[0m\n\u001b[1;31mSyntaxError\u001b[0m\u001b[1;31m:\u001b[0m leading zeros in decimal integer literals are not permitted; use an 0o prefix for octal integers\n"
     ]
    }
   ],
   "source": [
    "from iteration_utilities import unique_everseen as uniever \n",
    "list(uniever(012, 120, 201, 120))\n",
    "# returns leading zeros syntax error"
   ]
  },
  {
   "cell_type": "code",
   "execution_count": 4,
   "metadata": {},
   "outputs": [
    {
     "output_type": "error",
     "ename": "SyntaxError",
     "evalue": "leading zeros in decimal integer literals are not permitted; use an 0o prefix for octal integers (<ipython-input-4-a2c68662abbc>, line 1)",
     "traceback": [
      "\u001b[1;36m  File \u001b[1;32m\"<ipython-input-4-a2c68662abbc>\"\u001b[1;36m, line \u001b[1;32m1\u001b[0m\n\u001b[1;33m    a= str(012)\u001b[0m\n\u001b[1;37m             ^\u001b[0m\n\u001b[1;31mSyntaxError\u001b[0m\u001b[1;31m:\u001b[0m leading zeros in decimal integer literals are not permitted; use an 0o prefix for octal integers\n"
     ]
    }
   ],
   "source": [
    "a= str(012)\n",
    "b= str(120)\n",
    "c= str(201)\n",
    "d= str(012)\n",
    "e= str(12)\n",
    "\n",
    "list(uniever(a, b, c, d, e))\n",
    "# returns leading zeros syntax error"
   ]
  },
  {
   "cell_type": "code",
   "execution_count": 55,
   "metadata": {},
   "outputs": [
    {
     "output_type": "stream",
     "name": "stdout",
     "text": [
      "List of unique parts:  {'012', '12', '120'}\nList of multiple parts:  ['012']\n120\n"
     ]
    }
   ],
   "source": [
    "from iteration_utilities import unique_everseen as uniever\n",
    "from iteration_utilities import duplicates\n",
    "\n",
    "# How to convert a numerical ID into a string?\n",
    "p1= \"012\"\n",
    "p2= \"120\"\n",
    "p3= \"12\"\n",
    "p4= \"012\"\n",
    "\n",
    "lst= [a, b, c, d]\n",
    "\n",
    "print(\"List of unique parts: \", set(lst))\n",
    "\n",
    "multiples= list(uniever(duplicates(lst)))\n",
    "print(\"List of multiple parts: \", multiples)\n",
    "\n",
    "print(lst[1])"
   ]
  },
  {
   "cell_type": "code",
   "execution_count": 45,
   "metadata": {},
   "outputs": [
    {
     "output_type": "stream",
     "name": "stdout",
     "text": [
      "012 123\n2\n['012', '123']\n"
     ]
    }
   ],
   "source": [
    "from iteration_utilities import is_iterable\n",
    "\n",
    "class Part:\n",
    "\n",
    "    def __init__(self, id, demand):\n",
    "\n",
    "        self.id= id\n",
    "        self.demand= demand\n",
    "\n",
    "p1= Part(\"012\", 10)\n",
    "p2= Part(\"123\", 15)\n",
    "\n",
    "parts= [p1, p2]\n",
    "\n",
    "partsID= []\n",
    "\n",
    "print(parts[0].id, parts[1].id)\n",
    "print(len(parts))\n",
    "\n",
    "for i in parts:\n",
    "    partsID.append(i.id)\n",
    "\n",
    "print(partsID)"
   ]
  }
 ]
}