{
 "metadata": {
  "language_info": {
   "codemirror_mode": {
    "name": "ipython",
    "version": 3
   },
   "file_extension": ".py",
   "mimetype": "text/x-python",
   "name": "python",
   "nbconvert_exporter": "python",
   "pygments_lexer": "ipython3",
   "version": "3.9.1-final"
  },
  "orig_nbformat": 2,
  "kernelspec": {
   "name": "python3",
   "display_name": "Python 3.9.1 64-bit",
   "metadata": {
    "interpreter": {
     "hash": "5be85f3bcb99b9c9b45f728b4a7b9a2aa85b4cdd5a6a41f24b2a729a27db0a72"
    }
   }
  }
 },
 "nbformat": 4,
 "nbformat_minor": 2,
 "cells": [
  {
   "cell_type": "code",
   "execution_count": 30,
   "metadata": {},
   "outputs": [
    {
     "output_type": "stream",
     "name": "stdout",
     "text": [
      "['w1', 'w2', 'w3', 'w1', 'w2', 'w3', 'w4', 'w2']\n['w1', 'w2', 'w3', 'w4']\n"
     ]
    }
   ],
   "source": [
    "from iteration_utilities import unique_everseen\n",
    "from itertools import chain\n",
    "\n",
    "c1= [\"w1\", \"w2\", \"w3\", \"w1\"]\n",
    "c2= [\"w2\", \"w3\", \"w4\", \"w2\"]\n",
    "\n",
    "class Part:\n",
    "\n",
    "    def __init__(self, cycle, demand):\n",
    "\n",
    "        self.cycle= cycle\n",
    "        self.demand= demand\n",
    "\n",
    "p1= Part(c1, 15)\n",
    "p2= Part(c2, 20)\n",
    "\n",
    "parts= [p1, p2]\n",
    "\n",
    "workshops= []\n",
    "for i in parts:\n",
    "    cycle= i.cycle\n",
    "    workshops= list(chain(workshops, cycle))\n",
    "\n",
    "print(workshops)\n",
    "\n",
    "workshops= list(unique_everseen(workshops))\n",
    "\n",
    "print(workshops)"
   ]
  },
  {
   "cell_type": "code",
   "execution_count": null,
   "metadata": {},
   "outputs": [],
   "source": []
  }
 ]
}