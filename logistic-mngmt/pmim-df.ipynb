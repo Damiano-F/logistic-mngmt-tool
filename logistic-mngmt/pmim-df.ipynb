{
 "metadata": {
  "language_info": {
   "codemirror_mode": {
    "name": "ipython",
    "version": 3
   },
   "file_extension": ".py",
   "mimetype": "text/x-python",
   "name": "python",
   "nbconvert_exporter": "python",
   "pygments_lexer": "ipython3",
   "version": "3.9.1-final"
  },
  "orig_nbformat": 2,
  "kernelspec": {
   "name": "python3",
   "display_name": "Python 3.9.1 64-bit",
   "metadata": {
    "interpreter": {
     "hash": "5be85f3bcb99b9c9b45f728b4a7b9a2aa85b4cdd5a6a41f24b2a729a27db0a72"
    }
   }
  }
 },
 "nbformat": 4,
 "nbformat_minor": 2,
 "cells": [
  {
   "cell_type": "code",
   "execution_count": 36,
   "metadata": {},
   "outputs": [
    {
     "output_type": "stream",
     "name": "stdout",
     "text": [
      "[['w1', 'w2', 'w3', 'w4'], ['w4', 'w3', 'w2', 'w1'], ['w2', 'w1', 'w2', 'w4'], ['w3', 'w2', 'w1', 'w4', 'w1'], ['w4', 'w2']]\n[['w1', 'w2', 'w3', 'w4'], ['w4', 'w3', 'w2', 'w1'], ['w2', 'w1', 'w4'], ['w3', 'w2', 'w1', 'w4'], ['w4', 'w2']]\n[[1, 1, 1, 1], [1, 1, 1, 1], [1, 1, 0, 1], [1, 1, 1, 1], [0, 1, 0, 1]]\n{'null': ['w1', 'w2', 'w3', 'w4'], '1': [1, 1, 1, 1], '2': [1, 1, 1, 1], '3': [1, 1, 0, 1], '4': [1, 1, 1, 1], '5': [0, 1, 0, 1]}\n  null  1  2  3  4  5\n0   w1  1  1  1  1  0\n1   w2  1  1  1  1  1\n2   w3  1  1  0  1  0\n3   w4  1  1  1  1  1\n"
     ]
    }
   ],
   "source": [
    "import pandas as pd\n",
    "from iteration_utilities import unique_everseen\n",
    "\n",
    "\n",
    "class Phase:\n",
    "\n",
    "    def __init__(self, workshop, timing):\n",
    "\n",
    "        self.workshop= workshop\n",
    "        self.timing= timing\n",
    "\n",
    "class Cycle:\n",
    "\n",
    "    def __init__(self, phases):\n",
    "\n",
    "        self.phases= phases\n",
    "\n",
    "class Part:\n",
    "\n",
    "    def __init__(self, cycle, id):\n",
    "\n",
    "        self.cycle= cycle\n",
    "        self.id= id\n",
    "\n",
    "ph1= Phase(\"w1\", 1)\n",
    "ph2= Phase(\"w2\", 2)\n",
    "ph3= Phase(\"w3\", 3)\n",
    "ph4= Phase(\"w4\", 4)\n",
    "\n",
    "phases1= [ph1, ph2, ph3, ph4]\n",
    "phases2= [ph4, ph3, ph2, ph1]\n",
    "phases3= [ph2, ph1, ph2, ph4]\n",
    "phases4= [ph3, ph2, ph1, ph4, ph1]\n",
    "phases5= [ph4, ph2]\n",
    "\n",
    "cycle1= Cycle(phases1)\n",
    "cycle2= Cycle(phases2)\n",
    "cycle3= Cycle(phases3)\n",
    "cycle4= Cycle(phases4)\n",
    "cycle5= Cycle(phases5)\n",
    "\n",
    "p1= Part(cycle1, \"1\")\n",
    "p2= Part(cycle2, \"2\")\n",
    "p3= Part(cycle3, \"3\")\n",
    "p4= Part(cycle4, \"4\")\n",
    "p5= Part(cycle5, \"5\")\n",
    "\n",
    "parts= [p1, p2, p3, p4, p5]\n",
    "\n",
    "cyc= []\n",
    "for i in parts:\n",
    "    cyc.append(i.cycle)\n",
    "\n",
    "ph_= []\n",
    "for i in cyc:\n",
    "    ph_.append(i.phases)\n",
    "\n",
    "_ph_= []\n",
    "for i in ph_:\n",
    "    lst= []\n",
    "    for j in i:\n",
    "        lst.append(j.workshop)\n",
    "    _ph_.append(lst)\n",
    "\n",
    "print(_ph_)\n",
    "\n",
    "unique_ws_cycles= []\n",
    "for i in _ph_:\n",
    "    unique_ws_cycles.append(list(unique_everseen(i)))\n",
    "\n",
    "print(unique_ws_cycles)\n",
    "\n",
    "columns= []\n",
    "ws_lst= [\"w1\", \"w2\", \"w3\", \"w4\"]\n",
    "for i in unique_ws_cycles:\n",
    "    lst= []\n",
    "    for j in ws_lst:\n",
    "        n= i.count(j)\n",
    "        lst.append(n)\n",
    "    columns.append(lst)\n",
    "\n",
    "print(columns)\n",
    "\n",
    "keys= [\"null\"]\n",
    "for i in parts:\n",
    "    keys.append(i.id)\n",
    "\n",
    "values= []\n",
    "values.append(ws_lst)\n",
    "for i in columns:\n",
    "    values.append(i)\n",
    "\n",
    "pmim_dict= dict(zip(keys, values))\n",
    "print(pmim_dict)\n",
    "\n",
    "pmim= pd.DataFrame.from_dict(pmim_dict)\n",
    "\n",
    "print(pmim)"
   ]
  },
  {
   "cell_type": "code",
   "execution_count": 11,
   "metadata": {},
   "outputs": [
    {
     "output_type": "error",
     "ename": "Exception",
     "evalue": "lst must be empty",
     "traceback": [
      "\u001b[1;31m---------------------------------------------------------------------------\u001b[0m",
      "\u001b[1;31mException\u001b[0m                                 Traceback (most recent call last)",
      "\u001b[1;32m<ipython-input-11-bff4fcefd8c6>\u001b[0m in \u001b[0;36m<module>\u001b[1;34m\u001b[0m\n\u001b[0;32m      2\u001b[0m \u001b[1;33m\u001b[0m\u001b[0m\n\u001b[0;32m      3\u001b[0m \u001b[1;32mif\u001b[0m \u001b[0mlen\u001b[0m\u001b[1;33m(\u001b[0m\u001b[0mlst\u001b[0m\u001b[1;33m)\u001b[0m\u001b[1;33m!=\u001b[0m\u001b[1;36m0\u001b[0m \u001b[1;33m:\u001b[0m\u001b[1;33m\u001b[0m\u001b[1;33m\u001b[0m\u001b[0m\n\u001b[1;32m----> 4\u001b[1;33m     \u001b[1;32mraise\u001b[0m \u001b[0mException\u001b[0m\u001b[1;33m(\u001b[0m\u001b[1;34m\"lst must be empty\"\u001b[0m\u001b[1;33m)\u001b[0m\u001b[1;33m\u001b[0m\u001b[1;33m\u001b[0m\u001b[0m\n\u001b[0m\u001b[0;32m      5\u001b[0m \u001b[1;32melse\u001b[0m\u001b[1;33m:\u001b[0m\u001b[1;33m\u001b[0m\u001b[1;33m\u001b[0m\u001b[0m\n\u001b[0;32m      6\u001b[0m     \u001b[0mprint\u001b[0m\u001b[1;33m(\u001b[0m\u001b[1;34m\"ok, lst is empty\"\u001b[0m\u001b[1;33m)\u001b[0m\u001b[1;33m\u001b[0m\u001b[1;33m\u001b[0m\u001b[0m\n",
      "\u001b[1;31mException\u001b[0m: lst must be empty"
     ]
    }
   ],
   "source": [
    "lst= [\"schana wana\"]\n",
    "\n",
    "if len(lst)!=0 :\n",
    "    raise Exception(\"lst must be empty\")\n",
    "else:\n",
    "    print(\"ok, lst is empty\")"
   ]
  },
  {
   "cell_type": "code",
   "execution_count": null,
   "metadata": {},
   "outputs": [],
   "source": []
  }
 ]
}